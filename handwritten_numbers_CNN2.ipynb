{
  "nbformat": 4,
  "nbformat_minor": 0,
  "metadata": {
    "colab": {
      "name": "handwritten_numbers_CNN2.ipynb",
      "provenance": [],
      "collapsed_sections": []
    },
    "kernelspec": {
      "name": "python3",
      "display_name": "Python 3"
    }
  },
  "cells": [
    {
      "cell_type": "markdown",
      "metadata": {
        "id": "upjB8DE9jV7x"
      },
      "source": [
        "**データセットのインポートと確認**\n",
        "\n",
        "kerasからデータセットをインポートする。（kerasはデータセットのダウンロードのほかにには使わない）\n",
        "\n"
      ]
    },
    {
      "cell_type": "code",
      "metadata": {
        "id": "r6aitcv1g8O_"
      },
      "source": [
        "from keras.datasets import mnist"
      ],
      "execution_count": 1,
      "outputs": []
    },
    {
      "cell_type": "markdown",
      "metadata": {
        "id": "rPtKft6Tj_gI"
      },
      "source": [
        "\n",
        "\n",
        "numpy、matplotlibのダウンロード\n"
      ]
    },
    {
      "cell_type": "code",
      "metadata": {
        "id": "h12jM_yliBDp"
      },
      "source": [
        "import numpy as np\n",
        "import matplotlib.pyplot as plt\n",
        "from collections import OrderedDict"
      ],
      "execution_count": 2,
      "outputs": []
    },
    {
      "cell_type": "markdown",
      "metadata": {
        "id": "HSIrzFHRkTVS"
      },
      "source": [
        "mnistデータセットを読み込む"
      ]
    },
    {
      "cell_type": "code",
      "metadata": {
        "id": "V8ucVarZhIb-",
        "outputId": "3358c8ae-f434-48f1-f92f-703456b81a55",
        "colab": {
          "base_uri": "https://localhost:8080/",
          "height": 51
        }
      },
      "source": [
        "(x_train, t_train), (x_test, t_test) = mnist.load_data()"
      ],
      "execution_count": 3,
      "outputs": [
        {
          "output_type": "stream",
          "text": [
            "Downloading data from https://storage.googleapis.com/tensorflow/tf-keras-datasets/mnist.npz\n",
            "11493376/11490434 [==============================] - 0s 0us/step\n"
          ],
          "name": "stdout"
        }
      ]
    },
    {
      "cell_type": "markdown",
      "metadata": {
        "id": "KCEVvOXnkY8D"
      },
      "source": [
        "データ型の確認"
      ]
    },
    {
      "cell_type": "code",
      "metadata": {
        "id": "qhCcG5vFhfdT",
        "outputId": "1aaaa647-dd94-4483-963e-5c91e1d19bbe",
        "colab": {
          "base_uri": "https://localhost:8080/",
          "height": 85
        }
      },
      "source": [
        "print(x_train.shape)\n",
        "print(t_train.shape)\n",
        "print(x_test.shape)\n",
        "print(t_test.shape)"
      ],
      "execution_count": 4,
      "outputs": [
        {
          "output_type": "stream",
          "text": [
            "(60000, 28, 28)\n",
            "(60000,)\n",
            "(10000, 28, 28)\n",
            "(10000,)\n"
          ],
          "name": "stdout"
        }
      ]
    },
    {
      "cell_type": "markdown",
      "metadata": {
        "id": "NXUIS0N2kcAq"
      },
      "source": [
        "一番初めのデータの確認"
      ]
    },
    {
      "cell_type": "code",
      "metadata": {
        "id": "Mo_0rRKthwc7",
        "outputId": "aac111e7-246f-4f3a-e2a8-92bc37656d9f",
        "colab": {
          "base_uri": "https://localhost:8080/",
          "height": 34
        }
      },
      "source": [
        "img_0 = x_train[0]\n",
        "label_0 = t_train[0]\n",
        "print(label_0)"
      ],
      "execution_count": 5,
      "outputs": [
        {
          "output_type": "stream",
          "text": [
            "5\n"
          ],
          "name": "stdout"
        }
      ]
    },
    {
      "cell_type": "code",
      "metadata": {
        "id": "7lvk8ZSAh7ab",
        "outputId": "5782b97c-d808-4b27-ff31-aee6a9038fda",
        "colab": {
          "base_uri": "https://localhost:8080/",
          "height": 295
        }
      },
      "source": [
        "fig = plt.figure(figsize = (50,50))\n",
        "image = fig.add_subplot(10,10,1)\n",
        "image.imshow(img_0, cmap='gray')"
      ],
      "execution_count": 8,
      "outputs": [
        {
          "output_type": "execute_result",
          "data": {
            "text/plain": [
              "<matplotlib.image.AxesImage at 0x7f1592b68240>"
            ]
          },
          "metadata": {
            "tags": []
          },
          "execution_count": 8
        },
        {
          "output_type": "display_data",
          "data": {
            "image/png": "[encoded data removed]",
            "text/plain": [
              "<Figure size 3600x3600 with 1 Axes>"
            ]
          },
          "metadata": {
            "tags": [],
            "needs_background": "light"
          }
        }
      ]
    },
    {
      "cell_type": "markdown",
      "metadata": {
        "id": "g_3r5CaJki1I"
      },
      "source": [
        "データ型の変更"
      ]
    },
    {
      "cell_type": "code",
      "metadata": {
        "id": "AwLjaa4wjDtH"
      },
      "source": [
        "x_train = x_train[:100]  #学習に使用するデータの個数は自由に変更できる\n",
        "t_train = t_train[:100]\n",
        "x_test = x_test[:50]\n",
        "t_test = t_test[:50]\n",
        "x_train = x_train.reshape(-1,1,28,28) #４次元にデータ型を変更する(-1とすると個数が合うように自動で調整してくれる)\n",
        "x_test = x_test.reshape(-1,1,28,28)"
      ],
      "execution_count": null,
      "outputs": []
    },
    {
      "cell_type": "markdown",
      "metadata": {
        "id": "m9xI5ueelj42"
      },
      "source": [
        "きちんとデータ型が変更できているか確認"
      ]
    },
    {
      "cell_type": "code",
      "metadata": {
        "id": "dhBIg5rOlN5e",
        "outputId": "13af1ee5-3c57-465e-84f7-af97b77a2d8f",
        "colab": {
          "base_uri": "https://localhost:8080/",
          "height": 51
        }
      },
      "source": [
        "print(x_train.shape)\n",
        "print(x_test.shape)"
      ],
      "execution_count": null,
      "outputs": [
        {
          "output_type": "stream",
          "text": [
            "(100, 1, 28, 28)\n",
            "(50, 1, 28, 28)\n"
          ],
          "name": "stdout"
        }
      ]
    },
    {
      "cell_type": "markdown",
      "metadata": {
        "id": "QVp03JJ3oWj9"
      },
      "source": [
        "**レイヤの作成**\n",
        "\n",
        "まずはReLU"
      ]
    },
    {
      "cell_type": "code",
      "metadata": {
        "id": "pIjsbUm1oVxY"
      },
      "source": [
        "class Relu:\n",
        "  def __init__(self):\n",
        "    self.mask = None\n",
        "\n",
        "    \n",
        "  def forward(self,x):\n",
        "    self.mask = (x <= 0) \n",
        "    out = x.copy()         #とりあえず全てのxについてxを出力\n",
        "    out[self.mask] = 0     #xが0以下の時は0を出力\n",
        "     \n",
        "    return out\n",
        "  \n",
        "  def backward(self,dout):\n",
        "    dout[self.mask] = 0    #0以下の時は誤差も0\n",
        "    dx = dout\n",
        "    \n",
        "    return dx"
      ],
      "execution_count": null,
      "outputs": []
    },
    {
      "cell_type": "markdown",
      "metadata": {
        "id": "CUOyNUvTsN3d"
      },
      "source": [
        "次はAffineレイヤ"
      ]
    },
    {
      "cell_type": "code",
      "metadata": {
        "id": "ifqNrOvMsNeb"
      },
      "source": [
        "class Affine:            #テンソル対応 \n",
        "  def __init__(self,W,b):\n",
        "    self.W = W\n",
        "    self.b = b\n",
        "    \n",
        "    self.x = None\n",
        "    self.dW = None\n",
        "    self.db = None\n",
        "\n",
        "  def forward(self,x):\n",
        "    self.original_x_shape = x.shape\n",
        "    x = x.reshape(x.shape[0],-1)     #全結合層なので、行列に変形して計算する\n",
        "    self.x = x\n",
        "    \n",
        "    out = np.dot(self.x,self.W) + self.b  #Affine変換\n",
        "    \n",
        "    return out\n",
        "  \n",
        "  def backward(self,dout):\n",
        "    dx = np.dot(dout, self.W.T)\n",
        "    self.dW = np.dot(self.x.T, dout)\n",
        "    self.db = np.sum(dout, axis=0)\n",
        "    \n",
        "    dx = dx.reshape(*self.original_x_shape) #元の形状に直す\n",
        "    \n",
        "    return dx"
      ],
      "execution_count": null,
      "outputs": []
    },
    {
      "cell_type": "markdown",
      "metadata": {
        "id": "jn33Zoe-wH2Q"
      },
      "source": [
        "Softmaxレイヤ"
      ]
    },
    {
      "cell_type": "code",
      "metadata": {
        "id": "yZ5qFfI4lUQl"
      },
      "source": [
        "def softmax(x):   #まずはSoftmax関数を実装\n",
        "  if x.ndim == 2:\n",
        "    x = x.T\n",
        "    x = x - np.max(x,axis = 0)\n",
        "    y = np.exp(x)/np.sum(np.exp(x), axis = 0)\n",
        "    return y.T\n",
        "  \n",
        "  x = x - np.max(x)\n",
        "  return np.exp(x) / np.sum(np.exp(x))\n",
        "\n",
        "\n",
        "def cross_entropy_error(y, t):  #損失関数の実装\n",
        "  if y.ndim == 1:\n",
        "    t = t.reshape(1, t.size)\n",
        "    y = y.reshape(1, y.size)\n",
        "    \n",
        "  if t.size == y.size:\n",
        "    t = t.argmax(axis=1)\n",
        "    \n",
        "    \n",
        "  batch_size = y.shape[0]\n",
        "  return -np.sum(np.log(y[np.arange(batch_size), t] + 1e-7)) / batch_size\n",
        "\n",
        "\n",
        "class SoftmaxWithLoss:\n",
        "  def __init__(self):\n",
        "    self.loss = None\n",
        "    self.y = None   #softmaxの出力\n",
        "    self.t = None   #教師データ\n",
        "    \n",
        "  def forward(self,x,t):\n",
        "    self.t = t\n",
        "    self.y = softmax(x)\n",
        "    self.loss = cross_entropy_error(self.y, self.t)  #損失\n",
        "    \n",
        "    return self.loss\n",
        "  \n",
        "  def backward(self, dout):\n",
        "    batch_size = self.t.shape[0]\n",
        "    if self.t.size == self.y.size:\n",
        "      dx = (self.y - self.t) / batch_size\n",
        "      \n",
        "    else:\n",
        "      dx = self.y.copy()\n",
        "      dx[np.arange(batch_size), self.t] -= 1\n",
        "      dx = dx / batch_size\n",
        "      \n",
        "    return dx"
      ],
      "execution_count": null,
      "outputs": []
    },
    {
      "cell_type": "markdown",
      "metadata": {
        "id": "L3tgIwYK6xiM"
      },
      "source": [
        "convolution層"
      ]
    },
    {
      "cell_type": "code",
      "metadata": {
        "id": "X2qb9BMD6kwW"
      },
      "source": [
        "def im2col(input_data, filter_h, filter_w, stride=1, pad=0):\n",
        "  #バッチ数まで含めた4次元配列を2次元配列に変換し、フィルターをかけやすいように入力データを変換する\n",
        "  N, C, H, W = input_data.shape\n",
        "  out_h = (H + 2*pad - filter_h)//stride + 1\n",
        "  out_w = (W + 2*pad - filter_w)//stride + 1\n",
        "  \n",
        "  img = np.pad(input_data, [(0,0),(0,0),(pad,pad),(pad,pad)],'constant') #パディング\n",
        "  col = np.zeros((N, C, filter_h, filter_w, out_h, out_w))\n",
        "\n",
        "  for y in range(filter_h):\n",
        "    y_max = y + stride*out_h\n",
        "    for x in range(filter_w):\n",
        "      x_max = x + stride*out_w\n",
        "      col[:,:,y,x,:,:] = img[:,:,y:y_max:stride, x:x_max:stride]\n",
        "\n",
        "  col = col.transpose(0,4,5,1,2,3).reshape(N*out_h*out_w, -1)\n",
        "  return col\n",
        "\n",
        "def col2im(col, input_shape, filter_h, filter_w, stride=1, pad=0):\n",
        "  #２次元配列を４次元に直す（逆伝搬）\n",
        "  N, C, H, W = input_shape\n",
        "  out_h = (H + 2*pad - filter_h)//stride + 1\n",
        "  out_w = (W + 2*pad - filter_w)//stride + 1\n",
        "\n",
        "  col = col.reshape(N, out_h, out_w, C, filter_h, filter_w).transpose(0,3,4,5,1,2)\n",
        "  img = np.zeros((N, C, H + 2*pad + stride - 1, W + 2*pad + stride - 1))\n",
        "\n",
        "  for y in range(filter_h):\n",
        "    y_max = y + stride*out_h\n",
        "    for x in range(filter_w):\n",
        "      x_max = x + stride*out_w\n",
        "      img[:, :, y:y_max:stride, x:x_max:stride] += col[:,:, y, x,:,:]\n",
        "\n",
        "  return img[:,:, pad:H+pad, pad:W+pad] #４次元に直してreturn\n",
        "  "
      ],
      "execution_count": null,
      "outputs": []
    },
    {
      "cell_type": "code",
      "metadata": {
        "id": "ezK16oHZKoA5"
      },
      "source": [
        "class Convolution:\n",
        "  def __init__(self, W, b, stride=1, pad=0):\n",
        "    self.W = W\n",
        "    self.b = b\n",
        "    self.stride = stride\n",
        "    self.pad = pad\n",
        "    \n",
        "    self.x = None\n",
        "    self.col = None\n",
        "    self.col_W = None\n",
        "    \n",
        "    self.dW = None\n",
        "    self.db = None\n",
        "\n",
        "  def forward(self,x):\n",
        "    FN, C, FH, FW = self.W.shape\n",
        "    N, C, H, W = x.shape\n",
        "    out_h = 1 + int((H + 2*self.pad - FH) / self.stride)\n",
        "    out_w = 1 + int((W + 2*self.pad - FW) / self.stride)\n",
        "\n",
        "    col = im2col(x, FH, FW, self.stride, self.pad)\n",
        "    col_W = self.W.reshape(FN, -1).T\n",
        "\n",
        "    out = np.dot(col, col_W) + self.b\n",
        "    out = out.reshape(N, out_h, out_w, -1).transpose(0, 3, 1, 2)\n",
        "\n",
        "    self.x = x\n",
        "    self.col = col\n",
        "    self.col_W = col_W\n",
        "\n",
        "    return out\n",
        "    \n",
        "  def backward(self,dout):\n",
        "    FN, C, FH, FW = self.W.shape\n",
        "    dout = dout.transpose(0,2,3,1).reshape(-1, FN)\n",
        "\n",
        "    self.db = np.sum(dout, axis=0)\n",
        "    self.dW = np.dot(self.col.T, dout)\n",
        "    self.dW = self.dW.transpose(1, 0).reshape(FN, C, FH, FW)\n",
        "\n",
        "    dcol = np.dot(dout, self.col_W.T)\n",
        "    dx = col2im(dcol, self.x.shape, FH, FW, self.stride, self.pad)\n",
        "\n",
        "    return dx\n"
      ],
      "execution_count": null,
      "outputs": []
    },
    {
      "cell_type": "markdown",
      "metadata": {
        "id": "QUZzlK7U62cC"
      },
      "source": [
        "Pooling層"
      ]
    },
    {
      "cell_type": "code",
      "metadata": {
        "id": "8HN17vTX65IS"
      },
      "source": [
        "class Pooling:\n",
        "  def __init__(self, pool_h, pool_w, stride=1, pad=0):\n",
        "    self.pool_h = pool_h\n",
        "    self.pool_w = pool_w\n",
        "    self.stride = stride\n",
        "    self.pad = pad\n",
        "      \n",
        "    self.x = None\n",
        "    self.arg_max = None\n",
        "\n",
        "  def forward(self, x):\n",
        "    N, C, H, W = x.shape\n",
        "    out_h = int(1 + (H - self.pool_h) / self.stride)\n",
        "    out_w = int(1 + (W - self.pool_w) / self.stride)\n",
        "\n",
        "    col = im2col(x, self.pool_h, self.pool_w, self.stride, self.pad)\n",
        "    col = col.reshape(-1, self.pool_h*self.pool_w)\n",
        "\n",
        "    arg_max = np.argmax(col, axis=1)\n",
        "    out = np.max(col, axis=1)\n",
        "    out = out.reshape(N, out_h, out_w, C).transpose(0, 3, 1, 2)\n",
        "\n",
        "    self.x = x\n",
        "    self.arg_max = arg_max\n",
        "\n",
        "    return out\n",
        "\n",
        "  def backward(self, dout):\n",
        "    dout = dout.transpose(0, 2, 3, 1)\n",
        "      \n",
        "    pool_size = self.pool_h * self.pool_w\n",
        "    dmax = np.zeros((dout.size, pool_size))\n",
        "    dmax[np.arange(self.arg_max.size), self.arg_max.flatten()] = dout.flatten()\n",
        "    dmax = dmax.reshape(dout.shape + (pool_size,)) \n",
        "        \n",
        "    dcol = dmax.reshape(dmax.shape[0] * dmax.shape[1] * dmax.shape[2], -1)\n",
        "    dx = col2im(dcol, self.x.shape, self.pool_h, self.pool_w, self.stride, self.pad)\n",
        "        \n",
        "    return dx"
      ],
      "execution_count": null,
      "outputs": []
    },
    {
      "cell_type": "markdown",
      "metadata": {
        "id": "dS8EyAVONLDc"
      },
      "source": [
        "Simple Convolution Networkの実装\n"
      ]
    },
    {
      "cell_type": "code",
      "metadata": {
        "id": "SA1bvTJgMQHA"
      },
      "source": [
        "class SimpleConvNet:\n",
        "  def __init__(self, input_dim=(1, 28, 28), \n",
        "               conv_param={'filter_num':30, 'filter_size':5, 'pad':0, 'stride':1},\n",
        "               hidden_size=100, output_size=10, weight_init_std=0.01):\n",
        "    filter_num = conv_param['filter_num']\n",
        "    filter_size = conv_param['filter_size']\n",
        "    filter_pad = conv_param['pad']\n",
        "    filter_stride = conv_param['stride']\n",
        "    input_size = input_dim[1]\n",
        "    conv_output_size = (input_size - filter_size + 2*filter_pad) / filter_stride + 1\n",
        "    pool_output_size = int(filter_num * (conv_output_size/2) * (conv_output_size/2))\n",
        "\n",
        "    # 重みの初期化\n",
        "    self.params = {}\n",
        "    self.params['W1'] = weight_init_std * \\\n",
        "                            np.random.randn(filter_num, input_dim[0], filter_size, filter_size)\n",
        "    self.params['b1'] = np.zeros(filter_num)\n",
        "    self.params['W2'] = weight_init_std * \\\n",
        "                            np.random.randn(pool_output_size, hidden_size)\n",
        "    self.params['b2'] = np.zeros(hidden_size)\n",
        "    self.params['W3'] = weight_init_std * \\\n",
        "                            np.random.randn(hidden_size, output_size)\n",
        "    self.params['b3'] = np.zeros(output_size)\n",
        "\n",
        "    # レイヤの生成\n",
        "    self.layers = OrderedDict()\n",
        "    self.layers['Conv1'] = Convolution(self.params['W1'], self.params['b1'],\n",
        "                                       conv_param['stride'], conv_param['pad'])\n",
        "    self.layers['Relu1'] = Relu()\n",
        "    self.layers['Pool1'] = Pooling(pool_h=2, pool_w=2, stride=2)\n",
        "    self.layers['Affine1'] = Affine(self.params['W2'], self.params['b2'])\n",
        "    self.layers['Relu2'] = Relu()\n",
        "    self.layers['Affine2'] = Affine(self.params['W3'], self.params['b3'])\n",
        "\n",
        "    self.last_layer = SoftmaxWithLoss()\n",
        "\n",
        "  def predict(self, x):\n",
        "    for layer in self.layers.values():\n",
        "      x = layer.forward(x)\n",
        "\n",
        "    return x\n",
        "\n",
        "  def loss(self, x, t):\n",
        "    y = self.predict(x)\n",
        "    return self.last_layer.forward(y, t)\n",
        "\n",
        "  def accuracy(self, x, t, batch_size=100):\n",
        "    if t.ndim != 1 : t = np.argmax(t, axis=1)\n",
        "        \n",
        "    acc = 0.0\n",
        "        \n",
        "    for i in range(int(x.shape[0] / batch_size)):\n",
        "      tx = x[i*batch_size:(i+1)*batch_size]\n",
        "      tt = t[i*batch_size:(i+1)*batch_size]\n",
        "      y = self.predict(tx)\n",
        "      y = np.argmax(y, axis=1)\n",
        "      acc += np.sum(y == tt) \n",
        "        \n",
        "    return acc / x.shape[0]\n",
        "\n",
        "  def numerical_gradient(self, x, t):\n",
        "        \n",
        "    loss_w = lambda w: self.loss(x, t)\n",
        "\n",
        "    grads = {}\n",
        "    for idx in (1, 2, 3):\n",
        "      grads['W' + str(idx)] = numerical_gradient(loss_w, self.params['W' + str(idx)])\n",
        "      grads['b' + str(idx)] = numerical_gradient(loss_w, self.params['b' + str(idx)])\n",
        "\n",
        "    return grads\n",
        "\n",
        "  def gradient(self, x, t):\n",
        "        \n",
        "    # forward\n",
        "    self.loss(x, t)\n",
        "\n",
        "    # backward\n",
        "    dout = 1\n",
        "    dout = self.last_layer.backward(dout)\n",
        "\n",
        "    layers = list(self.layers.values())\n",
        "    layers.reverse()\n",
        "    for layer in layers:\n",
        "      dout = layer.backward(dout)\n",
        "\n",
        "    # 設定\n",
        "    grads = {}\n",
        "    grads['W1'], grads['b1'] = self.layers['Conv1'].dW, self.layers['Conv1'].db\n",
        "    grads['W2'], grads['b2'] = self.layers['Affine1'].dW, self.layers['Affine1'].db\n",
        "    grads['W3'], grads['b3'] = self.layers['Affine2'].dW, self.layers['Affine2'].db\n",
        "\n",
        "    return grads\n",
        "        \n",
        "  def save_params(self, file_name=\"params.pkl\"):\n",
        "    params = {}\n",
        "    for key, val in self.params.items():\n",
        "      params[key] = val\n",
        "    with open(file_name, 'wb') as f:\n",
        "      pickle.dump(params, f)\n",
        "\n",
        "  def load_params(self, file_name=\"params.pkl\"):\n",
        "    with open(file_name, 'rb') as f:\n",
        "      params = pickle.load(f)\n",
        "    for key, val in params.items():\n",
        "      self.params[key] = val\n",
        "\n",
        "    for i, key in enumerate(['Conv1', 'Affine1', 'Affine2']):\n",
        "      self.layers[key].W = self.params['W' + str(i+1)]\n",
        "      self.layers[key].b = self.params['b' + str(i+1)]\n"
      ],
      "execution_count": null,
      "outputs": []
    },
    {
      "cell_type": "code",
      "metadata": {
        "id": "tAf4fqt3O-ZM"
      },
      "source": [
        "class SGD:\n",
        "\n",
        "  def __init__(self, lr=0.01):\n",
        "    self.lr = lr\n",
        "        \n",
        "  def update(self, params, grads):\n",
        "    for key in params.keys():\n",
        "      params[key] -= self.lr * grads[key] \n",
        "            \n",
        "class Momentum:\n",
        "\n",
        "  def __init__(self, lr=0.01, momentum=0.9):\n",
        "    self.lr = lr\n",
        "    self.momentum = momentum\n",
        "    self.v = None\n",
        "        \n",
        "  def update(self, params, grads):\n",
        "    if self.v is None:\n",
        "      self.v = {}\n",
        "      for key, val in params.items():                                \n",
        "        self.v[key] = np.zeros_like(val)\n",
        "                \n",
        "    for key in params.keys():\n",
        "      self.v[key] = self.momentum*self.v[key] - self.lr*grads[key] \n",
        "      params[key] += self.v[key]\n",
        "\n",
        "\n",
        "class Nesterov:\n",
        "  def __init__(self, lr=0.01, momentum=0.9):\n",
        "    self.lr = lr\n",
        "    self.momentum = momentum\n",
        "    self.v = None\n",
        "        \n",
        "  def update(self, params, grads):\n",
        "    if self.v is None:\n",
        "      self.v = {}\n",
        "      for key, val in params.items():\n",
        "        self.v[key] = np.zeros_like(val)\n",
        "            \n",
        "    for key in params.keys():\n",
        "      self.v[key] *= self.momentum\n",
        "      self.v[key] -= self.lr * grads[key]\n",
        "      params[key] += self.momentum * self.momentum * self.v[key]\n",
        "      params[key] -= (1 + self.momentum) * self.lr * grads[key]\n",
        "\n",
        "class AdaGrad:\n",
        "  def __init__(self, lr=0.01):\n",
        "    self.lr = lr\n",
        "    self.h = None\n",
        "        \n",
        "  def update(self, params, grads):\n",
        "    if self.h is None:\n",
        "      self.h = {}\n",
        "      for key, val in params.items():\n",
        "        self.h[key] = np.zeros_like(val)\n",
        "            \n",
        "    for key in params.keys():\n",
        "      self.h[key] += grads[key] * grads[key]\n",
        "      params[key] -= self.lr * grads[key] / (np.sqrt(self.h[key]) + 1e-7)\n",
        "\n",
        "\n",
        "class RMSprop:\n",
        "  def __init__(self, lr=0.01, decay_rate = 0.99):\n",
        "    self.lr = lr\n",
        "    self.decay_rate = decay_rate\n",
        "    self.h = None\n",
        "        \n",
        "  def update(self, params, grads):\n",
        "    if self.h is None:\n",
        "      self.h = {}\n",
        "      for key, val in params.items():\n",
        "        self.h[key] = np.zeros_like(val)\n",
        "          \n",
        "    for key in params.keys():\n",
        "      self.h[key] *= self.decay_rate\n",
        "      self.h[key] += (1 - self.decay_rate) * grads[key] * grads[key]\n",
        "      params[key] -= self.lr * grads[key] / (np.sqrt(self.h[key]) + 1e-7)\n",
        "\n",
        "\n",
        "class Adam:\n",
        "  def __init__(self, lr=0.001, beta1=0.9, beta2=0.999):\n",
        "    self.lr = lr\n",
        "    self.beta1 = beta1\n",
        "    self.beta2 = beta2\n",
        "    self.iter = 0\n",
        "    self.m = None\n",
        "    self.v = None\n",
        "        \n",
        "  def update(self, params, grads):\n",
        "    if self.m is None:\n",
        "      self.m, self.v = {}, {}\n",
        "      for key, val in params.items():\n",
        "        self.m[key] = np.zeros_like(val)\n",
        "        self.v[key] = np.zeros_like(val)\n",
        "        \n",
        "    self.iter += 1\n",
        "    lr_t  = self.lr * np.sqrt(1.0 - self.beta2**self.iter) / (1.0 - self.beta1**self.iter)         \n",
        "        \n",
        "    for key in params.keys():\n",
        "      self.m[key] += (1 - self.beta1) * (grads[key] - self.m[key])\n",
        "      self.v[key] += (1 - self.beta2) * (grads[key]**2 - self.v[key])\n",
        "            \n",
        "      params[key] -= lr_t * self.m[key] / (np.sqrt(self.v[key]) + 1e-7)\n",
        "     "
      ],
      "execution_count": null,
      "outputs": []
    },
    {
      "cell_type": "code",
      "metadata": {
        "id": "05G2KKskPEzm"
      },
      "source": [
        "max_epochs = 20\n",
        "class Trainer:\n",
        "  def __init__(self, network, x_train, t_train, x_test, t_test,\n",
        "               epochs=20, mini_batch_size=100,\n",
        "               optimizer='SGD', optimizer_param={'lr':0.01}, \n",
        "               evaluate_sample_num_per_epoch=None, verbose=True):\n",
        "    self.network = network\n",
        "    self.verbose = verbose\n",
        "    self.x_train = x_train\n",
        "    self.t_train = t_train\n",
        "    self.x_test = x_test\n",
        "    self.t_test = t_test\n",
        "    self.epochs = epochs\n",
        "    self.batch_size = mini_batch_size\n",
        "    self.evaluate_sample_num_per_epoch = evaluate_sample_num_per_epoch\n",
        "\n",
        "    # optimizer\n",
        "    optimizer_class_dict = {'sgd':SGD, 'momentum':Momentum, 'nesterov':Nesterov,\n",
        "                            'adagrad':AdaGrad, 'rmsprpo':RMSprop, 'adam':Adam}\n",
        "    self.optimizer = optimizer_class_dict[optimizer.lower()](**optimizer_param)\n",
        "      \n",
        "    self.train_size = x_train.shape[0]\n",
        "    self.iter_per_epoch = max(self.train_size / mini_batch_size, 1)\n",
        "    self.max_iter = int(epochs * self.iter_per_epoch)\n",
        "    self.current_iter = 0\n",
        "    self.current_epoch = 0\n",
        "    self.train_loss_list = []\n",
        "    self.train_acc_list = []\n",
        "    self.test_acc_list = []\n",
        "  \n",
        "  def train_step(self):\n",
        "    batch_mask = np.random.choice(self.train_size, self.batch_size)\n",
        "    x_batch = self.x_train[batch_mask]\n",
        "    t_batch = self.t_train[batch_mask]\n",
        "        \n",
        "    grads = self.network.gradient(x_batch, t_batch)\n",
        "    self.optimizer.update(self.network.params, grads)\n",
        "        \n",
        "    loss = self.network.loss(x_batch, t_batch)\n",
        "    self.train_loss_list.append(loss)\n",
        "    if self.verbose: print(\"train loss:\" + str(loss))\n",
        "        \n",
        "    if self.current_iter % self.iter_per_epoch == 0:\n",
        "      self.current_epoch += 1\n",
        "            \n",
        "      x_train_sample, t_train_sample = self.x_train, self.t_train\n",
        "      x_test_sample, t_test_sample = self.x_test, self.t_test\n",
        "      if not self.evaluate_sample_num_per_epoch is None:\n",
        "        t = self.evaluate_sample_num_per_epoch\n",
        "        x_train_sample, t_train_sample = self.x_train[:t], self.t_train[:t]\n",
        "        x_test_sample, t_test_sample = self.x_test[:t], self.t_test[:t]\n",
        "                \n",
        "      train_acc = self.network.accuracy(x_train_sample, t_train_sample)\n",
        "      test_acc = self.network.accuracy(x_test_sample, t_test_sample)\n",
        "      self.train_acc_list.append(train_acc)\n",
        "      self.test_acc_list.append(test_acc)\n",
        "\n",
        "      if self.verbose: print(\"=== epoch:\" + str(self.current_epoch) + \", train acc:\" + str(train_acc) + \", test acc:\" + str(test_acc) + \" ===\")\n",
        "    self.current_iter += 1\n",
        "\n",
        "    \n",
        "  def train(self):\n",
        "    for i in range(self.max_iter):\n",
        "      self.train_step()\n",
        "\n",
        "    test_acc = self.network.accuracy(self.x_test, self.t_test)\n",
        "\n",
        "    if self.verbose:\n",
        "      print(\"=============== Final Test Accuracy ===============\")\n",
        "      print(\"test acc:\" + str(test_acc))\n"
      ],
      "execution_count": null,
      "outputs": []
    },
    {
      "cell_type": "code",
      "metadata": {
        "id": "vPSZl-AsPJ-n",
        "outputId": "af5d693e-bf5a-49a2-c785-cca9eb70e415",
        "colab": {
          "base_uri": "https://localhost:8080/",
          "height": 731
        }
      },
      "source": [
        "network = SimpleConvNet(input_dim=(1,28,28), \n",
        "                        conv_param = {'filter_num': 30, 'filter_size': 5, 'pad': 0, 'stride': 1},\n",
        "                        hidden_size=100, output_size=10, weight_init_std=0.01)\n",
        "                        \n",
        "trainer = Trainer(network, x_train, t_train, x_test, t_test,\n",
        "                  epochs=max_epochs, mini_batch_size=100,\n",
        "                  optimizer='Adam', optimizer_param={'lr': 0.001},\n",
        "                  evaluate_sample_num_per_epoch=1000)\n",
        "\n",
        "trainer.train()"
      ],
      "execution_count": null,
      "outputs": [
        {
          "output_type": "stream",
          "text": [
            "train loss:1.8308182970921993\n",
            "=== epoch:1, train acc:0.48, test acc:0.0 ===\n",
            "train loss:1.5121682382425146\n",
            "=== epoch:2, train acc:0.74, test acc:0.0 ===\n",
            "train loss:1.2092475146343398\n",
            "=== epoch:3, train acc:0.74, test acc:0.0 ===\n",
            "train loss:0.6600481166233558\n",
            "=== epoch:4, train acc:0.85, test acc:0.0 ===\n",
            "train loss:0.3674201984839855\n",
            "=== epoch:5, train acc:0.88, test acc:0.0 ===\n",
            "train loss:0.32738419316074235\n",
            "=== epoch:6, train acc:0.92, test acc:0.0 ===\n",
            "train loss:0.16944364969111014\n",
            "=== epoch:7, train acc:0.95, test acc:0.0 ===\n",
            "train loss:0.11460473022555805\n",
            "=== epoch:8, train acc:0.93, test acc:0.0 ===\n",
            "train loss:0.06746140659037256\n",
            "=== epoch:9, train acc:1.0, test acc:0.0 ===\n",
            "train loss:0.10555087655946624\n",
            "=== epoch:10, train acc:0.95, test acc:0.0 ===\n",
            "train loss:0.07834445361720224\n",
            "=== epoch:11, train acc:0.97, test acc:0.0 ===\n",
            "train loss:0.0367257481850791\n",
            "=== epoch:12, train acc:0.99, test acc:0.0 ===\n",
            "train loss:0.01640955153319947\n",
            "=== epoch:13, train acc:0.99, test acc:0.0 ===\n",
            "train loss:0.029830772343007995\n",
            "=== epoch:14, train acc:1.0, test acc:0.0 ===\n",
            "train loss:0.008421542068377186\n",
            "=== epoch:15, train acc:1.0, test acc:0.0 ===\n",
            "train loss:0.0055299441873772415\n",
            "=== epoch:16, train acc:1.0, test acc:0.0 ===\n",
            "train loss:0.0025093370027902922\n",
            "=== epoch:17, train acc:1.0, test acc:0.0 ===\n",
            "train loss:0.0015299110554306558\n",
            "=== epoch:18, train acc:1.0, test acc:0.0 ===\n",
            "train loss:0.00069660021716129\n",
            "=== epoch:19, train acc:1.0, test acc:0.0 ===\n",
            "train loss:0.0011424753691756527\n",
            "=== epoch:20, train acc:1.0, test acc:0.0 ===\n",
            "=============== Final Test Accuracy ===============\n",
            "test acc:0.0\n"
          ],
          "name": "stdout"
        }
      ]
    },
    {
      "cell_type": "code",
      "metadata": {
        "id": "qPv62v3pPdwT",
        "outputId": "25abf479-49ce-49a7-9305-bd9e523c2199",
        "colab": {
          "base_uri": "https://localhost:8080/",
          "height": 283
        }
      },
      "source": [
        "markers = {'train': 'o', 'test': 's'}\n",
        "x = np.arange(max_epochs)\n",
        "plt.plot(x, trainer.train_acc_list, marker='o', label='train', markevery=2)\n",
        "plt.plot(x, trainer.test_acc_list, marker='s', label='test', markevery=2)\n",
        "plt.xlabel(\"epochs\")\n",
        "plt.ylabel(\"accuracy\")\n",
        "plt.ylim(0, 1.0)\n",
        "plt.legend(loc='lower right')\n",
        "plt.show()\n"
      ],
      "execution_count": null,
      "outputs": [
        {
          "output_type": "display_data",
          "data": {
            "image/png": "[encoded data removed]",
            "text/plain": [
              "<Figure size 432x288 with 1 Axes>"
            ]
          },
          "metadata": {
            "tags": []
          }
        }
      ]
    },
    {
      "cell_type": "code",
      "metadata": {
        "id": "T1-bTLHXRBFq"
      },
      "source": [
        ""
      ],
      "execution_count": null,
      "outputs": []
    }
  ]
}